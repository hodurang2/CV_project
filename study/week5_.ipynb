{
  "nbformat": 4,
  "nbformat_minor": 0,
  "metadata": {
    "colab": {
      "provenance": [],
      "mount_file_id": "1S1jO3_rTJXm_kdYif9EZpbniN5_coF9x",
      "authorship_tag": "ABX9TyMFVSJYpfBtsXHO9UjjeKuh",
      "include_colab_link": true
    },
    "kernelspec": {
      "name": "python3",
      "display_name": "Python 3"
    },
    "language_info": {
      "name": "python"
    },
    "accelerator": "GPU",
    "gpuClass": "standard"
  },
  "cells": [
    {
      "cell_type": "markdown",
      "metadata": {
        "id": "view-in-github",
        "colab_type": "text"
      },
      "source": [
        "<a href=\"https://colab.research.google.com/github/hodurang2/CV_project/blob/main/week5_.ipynb\" target=\"_parent\"><img src=\"https://colab.research.google.com/assets/colab-badge.svg\" alt=\"Open In Colab\"/></a>"
      ]
    },
    {
      "cell_type": "code",
      "execution_count": null,
      "metadata": {
        "colab": {
          "base_uri": "https://localhost:8080/"
        },
        "id": "rkQ2QGzkawrp",
        "outputId": "c01fc335-a52d-4fce-b044-912f07f3f8ce"
      },
      "outputs": [
        {
          "output_type": "stream",
          "name": "stdout",
          "text": [
            "Drive already mounted at /content/drive; to attempt to forcibly remount, call drive.mount(\"/content/drive\", force_remount=True).\n"
          ]
        }
      ],
      "source": [
        "from google.colab import drive\n",
        "drive.mount('/content/drive')"
      ]
    },
    {
      "cell_type": "code",
      "source": [
        "%pwd"
      ],
      "metadata": {
        "colab": {
          "base_uri": "https://localhost:8080/",
          "height": 35
        },
        "id": "qzrfrOWTeMsb",
        "outputId": "2e1d316b-7184-4b75-dc9d-0527041abc17"
      },
      "execution_count": null,
      "outputs": [
        {
          "output_type": "execute_result",
          "data": {
            "text/plain": [
              "'/content'"
            ],
            "application/vnd.google.colaboratory.intrinsic+json": {
              "type": "string"
            }
          },
          "metadata": {},
          "execution_count": 3
        }
      ]
    },
    {
      "cell_type": "code",
      "source": [
        "%cd /content/drive/MyDrive/CV_seminar_project"
      ],
      "metadata": {
        "colab": {
          "base_uri": "https://localhost:8080/"
        },
        "id": "CAdebLdWeOHc",
        "outputId": "9f4ecb94-2d36-4a0e-dda2-d0492e8b75ac"
      },
      "execution_count": null,
      "outputs": [
        {
          "output_type": "stream",
          "name": "stdout",
          "text": [
            "/content/drive/MyDrive/CV_seminar_project\n"
          ]
        }
      ]
    },
    {
      "cell_type": "code",
      "source": [
        "%pwd"
      ],
      "metadata": {
        "colab": {
          "base_uri": "https://localhost:8080/",
          "height": 35
        },
        "id": "JJmkWQxteOLo",
        "outputId": "7005304c-283b-408c-bc0a-64f9d19de38b"
      },
      "execution_count": null,
      "outputs": [
        {
          "output_type": "execute_result",
          "data": {
            "text/plain": [
              "'/content/drive/MyDrive/CV_seminar_project'"
            ],
            "application/vnd.google.colaboratory.intrinsic+json": {
              "type": "string"
            }
          },
          "metadata": {},
          "execution_count": 5
        }
      ]
    },
    {
      "cell_type": "markdown",
      "source": [
        "#1.데이터 셋 준비하기"
      ],
      "metadata": {
        "id": "8gu1r6OeknX1"
      }
    },
    {
      "cell_type": "code",
      "source": [
        "import torch\n",
        "device = 'cuda' if torch.cuda.is_available() else 'cpu' # cpu 지정\n",
        "torch.manual_seed(42)\n",
        "if device == 'cuda':\n",
        "  torch.cuda.manual_seed_all(42)\n",
        "\n",
        "device"
      ],
      "metadata": {
        "colab": {
          "base_uri": "https://localhost:8080/",
          "height": 35
        },
        "id": "KCH2QlH8lEc6",
        "outputId": "3509e278-eacf-4a46-9a7b-bfd0fa86c372"
      },
      "execution_count": null,
      "outputs": [
        {
          "output_type": "execute_result",
          "data": {
            "text/plain": [
              "'cuda'"
            ],
            "application/vnd.google.colaboratory.intrinsic+json": {
              "type": "string"
            }
          },
          "metadata": {},
          "execution_count": 16
        }
      ]
    },
    {
      "cell_type": "code",
      "source": [
        "import torch.nn as nn # 파이토치 뉴럴 네트워크 layer 라이브러리리\n",
        "\n",
        "# 하이퍼 파라미터\n",
        "batch_size = 8\n",
        "lr = 0.0001\n",
        "epochs = 50\n",
        "optimizer_name = 'adam'\n",
        "model_name = 'resnet_50'\n",
        "criterion = nn.CrossEntropyLoss().to(device) # cost funtion"
      ],
      "metadata": {
        "id": "8-1Np4Vlf15J"
      },
      "execution_count": null,
      "outputs": []
    },
    {
      "cell_type": "code",
      "source": [
        "import albumentations as A\n",
        "from albumentations.pytorch.transforms import ToTensorV2 # albumentations 텐서화 함수\n",
        "from torch.utils.data import Dataset, DataLoader\n",
        "import torch\n",
        "import torchvision\n",
        "from torchvision import transforms\n",
        "import os\n",
        "import glob\n",
        "import cv2\n",
        "from dataset import Custom_dataset as C\n",
        "\n",
        "root_path = '/content/drive/MyDrive/CV_seminar_project'\n",
        "\n",
        "train_transforms = A.Compose([\n",
        "    A.Resize(224,224), # 이미지 리사이즈\n",
        "    A.Transpose(p=0.5), # 이미지 반전\n",
        "    A.HorizontalFlip(p=0.5), \n",
        "    A.VerticalFlip(p=0.5),\n",
        "    A.ShiftScaleRotate(p=0.5),\n",
        "    A.HueSaturationValue(hue_shift_limit=20, sat_shift_limit=20, val_shift_limit=20, p=0.5),\n",
        "    A.RandomBrightnessContrast(brightness_limit=(-0.1,0.1), contrast_limit=(-0.1, 0.1), p=0.5),\n",
        "    A.ChannelShuffle(),\n",
        "    A.Normalize(mean=(0.485, 0.456, 0.406), std=(0.229, 0.224, 0.225), max_pixel_value=255.0, always_apply=False, p=1.0), # 이미지넷 데이터셋 통계값으로 Normalize\n",
        "    A.CoarseDropout(p=0.5),\n",
        "    ToTensorV2()\n",
        "])\n",
        "\n",
        "test_transforms = A.Compose([\n",
        "    A.Resize(224,224),\n",
        "    A.Normalize(mean=(0.485, 0.456, 0.406), std=(0.229, 0.224, 0.225), max_pixel_value=255.0, always_apply=False, p=1.0), # 텐서타입은 안해줌\n",
        "    ToTensorV2() # Normalize를 먼저하고 tensor화를 진행해야한다.\n",
        "])\n",
        "\n",
        "### Pytorch 데이터 클래스 생성\n",
        "train_class = C(root_path=root_path, mode='train', transforms=train_transforms)\n",
        "valid_class = C(root_path=root_path, mode='valid', transforms=test_transforms)\n",
        "test_class = C(root_path=root_path, mode='test', transforms=test_transforms)\n",
        "\n",
        "### Pytorch BatchLoader 생성 (학습에 이용할 최종 dataloader)\n",
        "from torch.utils.data import DataLoader as DataLoader\n",
        "\n",
        "train_loader = DataLoader(train_class, batch_size=batch_size, shuffle = True, num_workers=0)\n",
        "valid_loader = DataLoader(valid_class, batch_size=batch_size, shuffle = False, num_workers=0)\n",
        "test_loader = DataLoader(test_class, batch_size=batch_size, shuffle = False, num_workers=0) # 사실 필요하지않음"
      ],
      "metadata": {
        "id": "cfBgQuWueOTU"
      },
      "execution_count": null,
      "outputs": []
    },
    {
      "cell_type": "markdown",
      "source": [
        "# 모델 불러오기"
      ],
      "metadata": {
        "id": "Go-RRPbMgx55"
      }
    },
    {
      "cell_type": "code",
      "source": [
        "from torchvision import models # 모델 라이브러리\n",
        "import torch.nn as nn # 파이토치 뉴럴 네트워크 layer 라이브러리리\n",
        "\n",
        "resnet_50 = models.resnet50(pretrained = True).to(device) # pretrained -> 산헹학습 여부\n",
        "resnet_50.fc = nn.Linear(resnet_50.fc.in_features, 3).to(device)"
      ],
      "metadata": {
        "colab": {
          "base_uri": "https://localhost:8080/"
        },
        "id": "SLQ-KPkEei86",
        "outputId": "158072b5-39eb-4369-ed80-4991feb6429f"
      },
      "execution_count": null,
      "outputs": [
        {
          "output_type": "stream",
          "name": "stderr",
          "text": [
            "/usr/local/lib/python3.8/dist-packages/torchvision/models/_utils.py:208: UserWarning: The parameter 'pretrained' is deprecated since 0.13 and may be removed in the future, please use 'weights' instead.\n",
            "  warnings.warn(\n",
            "/usr/local/lib/python3.8/dist-packages/torchvision/models/_utils.py:223: UserWarning: Arguments other than a weight enum or `None` for 'weights' are deprecated since 0.13 and may be removed in the future. The current behavior is equivalent to passing `weights=ResNet50_Weights.IMAGENET1K_V1`. You can also use `weights=ResNet50_Weights.DEFAULT` to get the most up-to-date weights.\n",
            "  warnings.warn(msg)\n"
          ]
        }
      ]
    },
    {
      "cell_type": "code",
      "source": [
        "from torchsummary import summary # 모델 아키텍처 확인하는 함수수\n",
        "\n",
        "summary(resnet_50, input_size = (3, 224, 224))"
      ],
      "metadata": {
        "id": "LsT_NrDGejBG"
      },
      "execution_count": null,
      "outputs": []
    },
    {
      "cell_type": "code",
      "source": [
        "optimizer = torch.optim.Adam(resnet_50.parameters(), lr = lr, weight_decay = 1e-8) # weight_decay = 학습을 할 수록 스텝을 줄여나갈수있게하는 param"
      ],
      "metadata": {
        "id": "QVCtsbqDnkVl"
      },
      "execution_count": null,
      "outputs": []
    },
    {
      "cell_type": "markdown",
      "source": [
        "#3. 모델 학습시키기"
      ],
      "metadata": {
        "id": "h1JjDu1Rkeja"
      }
    },
    {
      "cell_type": "code",
      "source": [
        "train_acc_lst = []\n",
        "train_loss_lst = []\n",
        "\n",
        "test_acc_lst = []\n",
        "test_loss_lst = []\n",
        "\n",
        "\n",
        "for epoch in range(1, epochs):\n",
        "  running_loss = 0.0\n",
        "  test_running_loss = 0.0\n",
        "\n",
        "  total = 0\n",
        "  correct = 0\n",
        "\n",
        "  train_acc = 0\n",
        "  test_acc = 0\n",
        "  resnet_50.train()\n",
        "  for i, (train_img, train_label) in enumerate(train_loader):\n",
        "    # gpu에 할당당\n",
        "    train_img = train_img.to(device)\n",
        "    train_label = train_label.to(device)\n",
        "    optimizer.zero_grad( set_to_none = True ) # 계산했던 가중치 초기화화\n",
        "\n",
        "    output = resnet_50(train_img) # 모델에 입력\n",
        "    loss = criterion(output, train_label)\n",
        "    loss.backward() # 미분\n",
        "    optimizer.step() # 학습\n",
        "    \n",
        "    # loss & acc\n",
        "    running_loss += loss.item()\n",
        "    _, predictions = torch.max( output.data ,dim = 1 )\n",
        "\n",
        "    total += train_label.size(0)\n",
        "    correct += (predictions == train_label).sum().item()\n",
        "    train_acc += (correct/total) * 100\n",
        "\n",
        "  running_loss = round(running_loss/(i+1), 3) # 소수점 3번째 자리까지 출력력\n",
        "  train_acc = round(train_acc/(i+1), 3)\n",
        "  \n",
        "  print(f'Trainset {epoch}/{epochs} Loss : {running_loss}, Accuracy : {train_acc}%')\n",
        "  train_acc_lst.append(train_acc)\n",
        "  train_loss_lst.append(running_loss)\n",
        "\n",
        "  resnet_50.eval()\n",
        "  for i, (valid_img, valid_label) in enumerate(valid_loader):\n",
        "    # gpu에 할당당\n",
        "    valid_img = valid_img.to(device)\n",
        "    valid_label = valid_label.to(device)\n",
        "    optimizer.zero_grad( set_to_none = True ) # 계산했던 가중치 초기화화\n",
        "\n",
        "    output = resnet_50(valid_img) # 모델에 입력\n",
        "    loss = criterion(output, valid_label)\n",
        "\n",
        "    # loss & acc\n",
        "    test_running_loss += loss.item()\n",
        "    _, predictions = torch.max( output.data ,dim = 1 )\n",
        "\n",
        "    total += valid_label.size(0)\n",
        "    correct += (predictions == valid_label).sum().item()\n",
        "    test_acc += (correct/total) * 100\n",
        "\n",
        "  test_running_loss = round(test_running_loss/(i+1), 3) # 소수점 3번째 자리까지 출력력\n",
        "  test_acc = round(test_acc/(i+1), 3)\n",
        "  \n",
        "  print(f'Testset {epoch}/{epochs} Loss : {test_running_loss}, Accuracy : {test_acc}% \\n')\n",
        "  test_acc_lst.append(test_acc)\n",
        "  test_loss_lst.append(test_running_loss)"
      ],
      "metadata": {
        "colab": {
          "base_uri": "https://localhost:8080/"
        },
        "id": "OFV6lcIGejQ_",
        "outputId": "9d5bd0f0-b4bf-4fea-ebb6-b2dcbb393ad8"
      },
      "execution_count": null,
      "outputs": [
        {
          "output_type": "stream",
          "name": "stdout",
          "text": [
            "Trainset 1/10 Loss : 1.094, Accuracy : 37.628%\n",
            "Testset 1/10 Loss : 1.076, Accuracy : 38.555% \n",
            "\n",
            "Trainset 2/10 Loss : 1.092, Accuracy : 39.385%\n",
            "Testset 2/10 Loss : 1.072, Accuracy : 39.242% \n",
            "\n",
            "Trainset 3/10 Loss : 1.09, Accuracy : 39.097%\n",
            "Testset 3/10 Loss : 1.078, Accuracy : 38.154% \n",
            "\n",
            "Trainset 4/10 Loss : 1.09, Accuracy : 40.936%\n",
            "Testset 4/10 Loss : 1.077, Accuracy : 38.128% \n",
            "\n",
            "Trainset 5/10 Loss : 1.097, Accuracy : 40.173%\n",
            "Testset 5/10 Loss : 1.08, Accuracy : 38.845% \n",
            "\n",
            "Trainset 6/10 Loss : 1.091, Accuracy : 42.701%\n",
            "Testset 6/10 Loss : 1.08, Accuracy : 39.321% \n",
            "\n",
            "Trainset 7/10 Loss : 1.093, Accuracy : 39.489%\n",
            "Testset 7/10 Loss : 1.076, Accuracy : 38.383% \n",
            "\n",
            "Trainset 8/10 Loss : 1.092, Accuracy : 40.313%\n",
            "Testset 8/10 Loss : 1.079, Accuracy : 36.921% \n",
            "\n",
            "Trainset 9/10 Loss : 1.093, Accuracy : 40.964%\n",
            "Testset 9/10 Loss : 1.074, Accuracy : 36.466% \n",
            "\n"
          ]
        }
      ]
    },
    {
      "cell_type": "code",
      "source": [
        "test_acc_lst"
      ],
      "metadata": {
        "colab": {
          "base_uri": "https://localhost:8080/"
        },
        "id": "xyqHmL_x8i6S",
        "outputId": "75ef403a-9105-40d8-81f7-eea58b86507a"
      },
      "execution_count": null,
      "outputs": [
        {
          "output_type": "execute_result",
          "data": {
            "text/plain": [
              "[95.011, 92.852, 94.028, 94.065, 94.523, 94.51, 95.149, 93.159, 94.581]"
            ]
          },
          "metadata": {},
          "execution_count": 43
        }
      ]
    },
    {
      "cell_type": "code",
      "source": [
        "import matplotlib.pyplot as plt\n",
        "import matplotlib\n",
        "import seaborn as sns\n",
        "import numpy as np\n",
        "\n",
        "fig, axes = plt.subplots( nrows = 1, ncols = 2, figsize = (15, 5) )\n",
        "\n",
        "axes[0].plot(np.arange(len(train_acc_lst)), train_acc_lst, label = 'train_acc')\n",
        "axes[0].plot(np.arange(len(test_acc_lst)), test_acc_lst, label = 'test_acc')\n",
        "axes[0].set_title('Accuracy')\n",
        "\n",
        "axes[1].plot(np.arange(len(train_loss_lst)), train_loss_lst, label = 'train_loss')\n",
        "axes[1].plot(np.arange(len(test_loss_lst)), test_loss_lst, label = 'test_loss')\n",
        "axes[1].set_title('loss')\n"
      ],
      "metadata": {
        "colab": {
          "base_uri": "https://localhost:8080/",
          "height": 354
        },
        "id": "pnWPGfQoekO0",
        "outputId": "af831062-e55a-454c-e2bf-9968dad88e76"
      },
      "execution_count": null,
      "outputs": [
        {
          "output_type": "execute_result",
          "data": {
            "text/plain": [
              "Text(0.5, 1.0, 'loss')"
            ]
          },
          "metadata": {},
          "execution_count": 46
        },
        {
          "output_type": "display_data",
          "data": {
            "text/plain": [
              "<Figure size 1080x360 with 2 Axes>"
            ],
            "image/png": "[encoded data removed]"
          },
          "metadata": {
            "needs_background": "light"
          }
        }
      ]
    },
    {
      "cell_type": "code",
      "source": [
        "train_acc_lst"
      ],
      "metadata": {
        "colab": {
          "base_uri": "https://localhost:8080/"
        },
        "id": "bZPSzMmfekSV",
        "outputId": "7d69f87c-e9e3-49db-d59c-7615bf84c0e5"
      },
      "execution_count": null,
      "outputs": [
        {
          "output_type": "execute_result",
          "data": {
            "text/plain": [
              "[11041.912294112975]"
            ]
          },
          "metadata": {},
          "execution_count": 37
        }
      ]
    },
    {
      "cell_type": "code",
      "source": [],
      "metadata": {
        "id": "eTQRDH_-ekV5"
      },
      "execution_count": null,
      "outputs": []
    },
    {
      "cell_type": "code",
      "source": [],
      "metadata": {
        "id": "N4iqc7JZekZL"
      },
      "execution_count": null,
      "outputs": []
    },
    {
      "cell_type": "code",
      "source": [],
      "metadata": {
        "id": "lxXdCgsaekcr"
      },
      "execution_count": null,
      "outputs": []
    },
    {
      "cell_type": "code",
      "source": [],
      "metadata": {
        "id": "xNlAaw9YeOW3"
      },
      "execution_count": null,
      "outputs": []
    }
  ]
}
