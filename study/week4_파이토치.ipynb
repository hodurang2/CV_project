{
  "nbformat": 4,
  "nbformat_minor": 0,
  "metadata": {
    "colab": {
      "provenance": [],
      "mount_file_id": "1Sc0zX_vuB27gx8nD7-uSRvm4lUWEV69X",
      "authorship_tag": "ABX9TyM8l/qNei+7R+z+iLfWUT7K",
      "include_colab_link": true
    },
    "kernelspec": {
      "name": "python3",
      "display_name": "Python 3"
    },
    "language_info": {
      "name": "python"
    },
    "accelerator": "GPU",
    "gpuClass": "standard"
  },
  "cells": [
    {
      "cell_type": "markdown",
      "metadata": {
        "id": "view-in-github",
        "colab_type": "text"
      },
      "source": [
        "<a href=\"https://colab.research.google.com/github/hodurang2/CV_project/blob/main/week4_%ED%8C%8C%EC%9D%B4%ED%86%A0%EC%B9%98.ipynb\" target=\"_parent\"><img src=\"https://colab.research.google.com/assets/colab-badge.svg\" alt=\"Open In Colab\"/></a>"
      ]
    },
    {
      "cell_type": "markdown",
      "source": [
        "# 경로설정"
      ],
      "metadata": {
        "id": "P63k9yaWX8zk"
      }
    },
    {
      "cell_type": "code",
      "execution_count": null,
      "metadata": {
        "colab": {
          "base_uri": "https://localhost:8080/"
        },
        "id": "lrros-MVVaTX",
        "outputId": "81fb8ded-197d-4860-b341-631eb15b501d"
      },
      "outputs": [
        {
          "output_type": "stream",
          "name": "stdout",
          "text": [
            "/content/drive/MyDrive/CV_seminar_project\n"
          ]
        }
      ],
      "source": [
        "%cd /content/drive/MyDrive/CV_seminar_project/"
      ]
    },
    {
      "cell_type": "code",
      "source": [
        "import torch\n",
        "import torchvision\n",
        "from torchvision import transforms # 이미지 데이터 augmentation\n",
        "import os\n",
        "import glob\n",
        "\n",
        "device = 'cuda' if  torch.cuda.is_available() else 'cpu'\n",
        "torch.manual_seed(78)\n",
        "if device == 'cuda':\n",
        "  torch.cuda.manual_seed_all(78)"
      ],
      "metadata": {
        "id": "9bfqWv8lVz8a"
      },
      "execution_count": null,
      "outputs": []
    },
    {
      "cell_type": "code",
      "source": [
        "device"
      ],
      "metadata": {
        "colab": {
          "base_uri": "https://localhost:8080/",
          "height": 35
        },
        "id": "e3eEFY2XWPxa",
        "outputId": "77c20a8a-f127-4541-d5fc-434998713194"
      },
      "execution_count": null,
      "outputs": [
        {
          "output_type": "execute_result",
          "data": {
            "text/plain": [
              "'cuda'"
            ],
            "application/vnd.google.colaboratory.intrinsic+json": {
              "type": "string"
            }
          },
          "metadata": {},
          "execution_count": 3
        }
      ]
    },
    {
      "cell_type": "code",
      "source": [
        "train_path = '/content/drive/MyDrive/CV_seminar_project/train'\n",
        "test_path = '/content/drive/MyDrive/CV_seminar_project/test'\n",
        "\n",
        "dolphin_dir = '/dolphin'\n",
        "shark_dir = '/shark'\n",
        "whale_dir = '/whale'"
      ],
      "metadata": {
        "id": "DIXk7nOmWQoh"
      },
      "execution_count": null,
      "outputs": []
    },
    {
      "cell_type": "markdown",
      "source": [
        "# pytorch 데이터셋 클래스 실습"
      ],
      "metadata": {
        "id": "A_prAn1TXemJ"
      }
    },
    {
      "cell_type": "markdown",
      "source": [
        "## 1. 라이브러리를 이용하기\n",
        "- 이미지 전처리하기\n",
        "1. resize하기 -> (224, 224) (H, W)\n",
        "2. tensor화 하기 -> 픽셀 값을 0-1로 바꾸기"
      ],
      "metadata": {
        "id": "HV1CDB4AXkF4"
      }
    },
    {
      "cell_type": "code",
      "source": [
        "preprop_imgs = transforms.Compose(\n",
        "    [ transforms.Resize( (224, 224) ),\n",
        "     transforms.ToTensor()\n",
        "     ]\n",
        ")\n",
        "\n",
        "preprop_train = torchvision.datasets.ImageFolder(root = train_path, transform = preprop_imgs)\n",
        "preprop_test = torchvision.datasets.ImageFolder(root = test_path, transform = preprop_imgs)"
      ],
      "metadata": {
        "id": "fAyR5SKaW6cV"
      },
      "execution_count": null,
      "outputs": []
    },
    {
      "cell_type": "code",
      "source": [
        "preprop_train[0][0].shape # C, H, W"
      ],
      "metadata": {
        "colab": {
          "base_uri": "https://localhost:8080/"
        },
        "id": "aqjNzcMbfhS4",
        "outputId": "3afd09c6-9a3d-4c78-9fcc-ec1b4ce6c0f8"
      },
      "execution_count": null,
      "outputs": [
        {
          "output_type": "execute_result",
          "data": {
            "text/plain": [
              "torch.Size([3, 224, 224])"
            ]
          },
          "metadata": {},
          "execution_count": 27
        }
      ]
    },
    {
      "cell_type": "markdown",
      "source": [
        "image Augmentation - 1\n",
        "\n",
        "> Normalize\n",
        "\n",
        ">(X - Mean) / std -> 여러개가 이용가능한대,\n",
        "\n",
        ">>1. ImageNet 데이터셋의 Mean, std를 이용한다.\n",
        ">>2. 지금 내가 가지고 있는 데이터 셋의 통계값을 이용한다. (train)"
      ],
      "metadata": {
        "id": "Gcp10INhazvZ"
      }
    },
    {
      "cell_type": "code",
      "source": [
        "from torchvision.transforms.transforms import RandomHorizontalFlip\n",
        "Aug_imgs = transforms.Compose(\n",
        "    [ transforms.Resize( (224, 224) ),\n",
        "     transforms.RandomCrop(180), # 사진을 랜덤으로 자름,\n",
        "     transforms.ColorJitter(brightness = 0.2, contrast = 0.2, saturation = 0.2, hue = 0.2), #사진에 노이즈를 넣는방법,\n",
        "     transforms.RandomHorizontalFlip(p = 0.5),\n",
        "     transforms.ToTensor(),\n",
        "     transforms.Normalize(mean = [0.485, 0.456, 0.406],\n",
        "                          std = [0.229, 0.224, 0.225])\n",
        "     ]\n",
        ")\n",
        "\n",
        "Aug_train = torchvision.datasets.ImageFolder(root = train_path, transform = Aug_imgs)\n",
        "Aug_test = torchvision.datasets.ImageFolder(root = test_path, transform = preprop_imgs) #test 셋은 augmentation 하지 않는다."
      ],
      "metadata": {
        "id": "2DZmEokba8hw"
      },
      "execution_count": null,
      "outputs": []
    },
    {
      "cell_type": "code",
      "source": [
        "train_loader = torch.utils.data.DataLoader(Aug_train, batch_size = 4,\n",
        "                                      shuffle = True, num_workers = 0)\n",
        "\n",
        "test_loader = torch.utils.data.DataLoader(Aug_test, batch_size = 4,\n",
        "                                      shuffle = True, num_workers = 0)"
      ],
      "metadata": {
        "id": "8wDrFe2EdHGQ"
      },
      "execution_count": null,
      "outputs": []
    },
    {
      "cell_type": "code",
      "source": [
        "for data, label in train_loader:\n",
        "  break"
      ],
      "metadata": {
        "id": "LyI1yV4hflFY"
      },
      "execution_count": null,
      "outputs": []
    },
    {
      "cell_type": "code",
      "source": [
        "label # -> 이미지 라벨 (고래, 상어, 고래 상어)"
      ],
      "metadata": {
        "colab": {
          "base_uri": "https://localhost:8080/"
        },
        "id": "sYQGw83wZRTJ",
        "outputId": "8590a4b1-c398-40e2-bc9e-5ed337074a52"
      },
      "execution_count": null,
      "outputs": [
        {
          "output_type": "execute_result",
          "data": {
            "text/plain": [
              "tensor([2, 1, 2, 1])"
            ]
          },
          "metadata": {},
          "execution_count": 31
        }
      ]
    },
    {
      "cell_type": "code",
      "source": [
        "import numpy as np\n",
        "img = preprop_train[-1][0]\n",
        "img.permute(1, 2, 0).shape # 과제 때 이용 할 permute 함수"
      ],
      "metadata": {
        "colab": {
          "base_uri": "https://localhost:8080/"
        },
        "id": "zd9gXHclZqHR",
        "outputId": "4c177bf8-8b84-4cdc-e4c2-375883e7503c"
      },
      "execution_count": null,
      "outputs": [
        {
          "output_type": "execute_result",
          "data": {
            "text/plain": [
              "torch.Size([224, 224, 3])"
            ]
          },
          "metadata": {},
          "execution_count": 14
        }
      ]
    },
    {
      "cell_type": "code",
      "source": [
        "data.shape # (batch_size, C, H, W)"
      ],
      "metadata": {
        "colab": {
          "base_uri": "https://localhost:8080/"
        },
        "id": "AZhPJKW6aPKJ",
        "outputId": "36c0b6a7-3de3-4491-d066-a4d8815a91f7"
      },
      "execution_count": null,
      "outputs": [
        {
          "output_type": "execute_result",
          "data": {
            "text/plain": [
              "torch.Size([4, 3, 180, 180])"
            ]
          },
          "metadata": {},
          "execution_count": 32
        }
      ]
    }
  ]
}
